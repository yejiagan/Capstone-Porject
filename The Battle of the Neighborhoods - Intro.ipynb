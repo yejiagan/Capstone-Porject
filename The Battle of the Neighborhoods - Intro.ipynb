{
    "cells": [
        {
            "cell_type": "markdown",
            "metadata": {
                "collapsed": true
            },
            "source": "# The Battle of the Neighborhoods  - Week 1"
        },
        {
            "cell_type": "markdown",
            "metadata": {},
            "source": "### Introduction & Business Problem :\n\n### Problem Background:"
        },
        {
            "cell_type": "markdown",
            "metadata": {},
            "source": "London is a leading global educational centre, having one of the largest populations of overseas students of any city in the world.In 2015/16 in the UK as a whole, nearly 2.3 million students were registered at 163 higher education (HE) providers, with about 372,000 or 16% of the UK total studying at 39 HE providers in London.\n\nAccording to the data published by the Higher Education Statistical Agency (HESA), in the academic year 2016-2017 London welcomed 112,200 international students to its higher education institutions, which make up 29 percent of students at higher education institutions. This means that at least 110,000 students are looking for a new home in London every year, even if domestic students from outside of London are not considered. \n\nThe low quality of the dormitories offered by schools themselves, the shortage of student housing, and the relatively good economic resources of the international students who attend schools in London offered an economic opportunity to firms such as Unite Students which have built thousands of units of student housing in London."
        },
        {
            "cell_type": "markdown",
            "metadata": {},
            "source": "### Problem Description:"
        },
        {
            "cell_type": "markdown",
            "metadata": {},
            "source": "Student dormitories are the most reliable means of housing for students, especially for one who is completely new to the city and is not familiar with how rental contract works. However, as they are in high demand, it is not easy to secure a place in one. Therefore this project aims to explore different neighborhoods of London and find the best area to build a new dormitory so that international students could solve this persistent problem and real-estate company may find potential business opportunities.\n\nFrom the student perspective, a lot of factors come into play while searching for the best accommodation, including location, safety and rent fee. However, in this project, we will only focus on the safety and the general atmosphere of the neighborhood for simplicity purpose."
        },
        {
            "cell_type": "markdown",
            "metadata": {},
            "source": "### Target Audience: "
        },
        {
            "cell_type": "markdown",
            "metadata": {},
            "source": "This research is expected to benefit real-estate investors looking for a profitable location or international students looking for a place to live in London.\n\nThis would interest anyone who would to pursue a high education in London in the future."
        },
        {
            "cell_type": "markdown",
            "metadata": {},
            "source": "### Success Criteria:"
        },
        {
            "cell_type": "markdown",
            "metadata": {},
            "source": "The success criteria of the project will be a good recommendation of location to build a dormitory based on the safety and atmosphere facto"
        }
    ],
    "metadata": {
        "kernelspec": {
            "display_name": "Python 3.6",
            "language": "python",
            "name": "python3"
        },
        "language_info": {
            "codemirror_mode": {
                "name": "ipython",
                "version": 3
            },
            "file_extension": ".py",
            "mimetype": "text/x-python",
            "name": "python",
            "nbconvert_exporter": "python",
            "pygments_lexer": "ipython3",
            "version": "3.6.8"
        }
    },
    "nbformat": 4,
    "nbformat_minor": 1
}